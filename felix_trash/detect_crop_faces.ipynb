{
 "cells": [
  {
   "cell_type": "code",
   "execution_count": 5,
   "id": "initial_id",
   "metadata": {
    "collapsed": true,
    "ExecuteTime": {
     "end_time": "2023-11-27T01:37:41.978845700Z",
     "start_time": "2023-11-27T01:05:42.904596Z"
    }
   },
   "outputs": [
    {
     "ename": "KeyboardInterrupt",
     "evalue": "",
     "output_type": "error",
     "traceback": [
      "\u001B[1;31m---------------------------------------------------------------------------\u001B[0m",
      "\u001B[1;31mKeyboardInterrupt\u001B[0m                         Traceback (most recent call last)",
      "Cell \u001B[1;32mIn[5], line 42\u001B[0m\n\u001B[0;32m     39\u001B[0m input_directory \u001B[38;5;241m=\u001B[39m \u001B[38;5;124m\"\u001B[39m\u001B[38;5;124m../DFN_dataset/organized_photos/\u001B[39m\u001B[38;5;124m\"\u001B[39m\n\u001B[0;32m     40\u001B[0m output_directory \u001B[38;5;241m=\u001B[39m \u001B[38;5;124m\"\u001B[39m\u001B[38;5;124m../photos/faces/\u001B[39m\u001B[38;5;124m\"\u001B[39m\n\u001B[1;32m---> 42\u001B[0m \u001B[43mdetect_and_crop_faces_for_dogs\u001B[49m\u001B[43m(\u001B[49m\u001B[43minput_directory\u001B[49m\u001B[43m,\u001B[49m\u001B[43m \u001B[49m\u001B[43moutput_directory\u001B[49m\u001B[43m)\u001B[49m\n",
      "Cell \u001B[1;32mIn[5], line 17\u001B[0m, in \u001B[0;36mdetect_and_crop_faces_for_dogs\u001B[1;34m(input_folder, output_folder)\u001B[0m\n\u001B[0;32m     14\u001B[0m     os\u001B[38;5;241m.\u001B[39mmakedirs(output_dog_folder)\n\u001B[0;32m     16\u001B[0m \u001B[38;5;66;03m# Load Haar Cascade classifier for face detection\u001B[39;00m\n\u001B[1;32m---> 17\u001B[0m face_cascade \u001B[38;5;241m=\u001B[39m \u001B[43mcv2\u001B[49m\u001B[38;5;241;43m.\u001B[39;49m\u001B[43mCascadeClassifier\u001B[49m\u001B[43m(\u001B[49m\u001B[43mcv2\u001B[49m\u001B[38;5;241;43m.\u001B[39;49m\u001B[43mdata\u001B[49m\u001B[38;5;241;43m.\u001B[39;49m\u001B[43mhaarcascades\u001B[49m\u001B[43m \u001B[49m\u001B[38;5;241;43m+\u001B[39;49m\u001B[43m \u001B[49m\u001B[38;5;124;43m'\u001B[39;49m\u001B[38;5;124;43mhaarcascade_frontalface_default.xml\u001B[39;49m\u001B[38;5;124;43m'\u001B[39;49m\u001B[43m)\u001B[49m\n\u001B[0;32m     19\u001B[0m \u001B[38;5;66;03m# Iterate through files in the current dog's folder\u001B[39;00m\n\u001B[0;32m     20\u001B[0m \u001B[38;5;28;01mfor\u001B[39;00m filename \u001B[38;5;129;01min\u001B[39;00m os\u001B[38;5;241m.\u001B[39mlistdir(dog_folder_path):\n",
      "\u001B[1;31mKeyboardInterrupt\u001B[0m: "
     ]
    }
   ],
   "source": [
    "import os\n",
    "import cv2\n",
    "\n",
    "def detect_and_crop_faces_for_dogs(input_folder, output_folder):\n",
    "    # Iterate through each dog folder in the input directory\n",
    "    for dog_folder in os.listdir(input_folder):\n",
    "        dog_folder_path = os.path.join(input_folder, dog_folder)\n",
    "\n",
    "        # Check if the item in the input folder is a directory\n",
    "        if os.path.isdir(dog_folder_path):\n",
    "            # Create output folder for the current dog if it doesn't exist\n",
    "            output_dog_folder = os.path.join(output_folder, dog_folder)\n",
    "            if not os.path.exists(output_dog_folder):\n",
    "                os.makedirs(output_dog_folder)\n",
    "\n",
    "            # Load Haar Cascade classifier for face detection\n",
    "            face_cascade = cv2.CascadeClassifier(cv2.data.haarcascades + 'haarcascade_frontalface_default.xml')\n",
    "\n",
    "            # Iterate through files in the current dog's folder\n",
    "            for filename in os.listdir(dog_folder_path):\n",
    "                if filename.endswith(('.jpg', '.jpeg', '.png')) and filename.startswith(('1','2','3')):\n",
    "                    # Read the image\n",
    "                    img_path = os.path.join(dog_folder_path, filename)\n",
    "                    img = cv2.imread(img_path)\n",
    "                    \n",
    "                    if img is not None:\n",
    "                    # Convert to grayscale for face detection\n",
    "                        gray = cv2.cvtColor(img, cv2.COLOR_BGR2GRAY)\n",
    "    \n",
    "                        # Detect faces in the image\n",
    "                        faces = face_cascade.detectMultiScale(gray, scaleFactor=1.3, minNeighbors=5)\n",
    "    \n",
    "                        # Crop and save each detected face\n",
    "                        for idx, (x, y, w, h) in enumerate(faces):\n",
    "                            face = img[y:y+h, x:x+w]\n",
    "                            output_path = os.path.join(output_dog_folder, f\"face_{idx}_{filename}\")\n",
    "                            cv2.imwrite(output_path, face)\n",
    "\n",
    "input_directory = \"../DFN_dataset/organized_photos/\"\n",
    "output_directory = \"../photos/faces/\"\n",
    "\n",
    "detect_and_crop_faces_for_dogs(input_directory, output_directory)\n"
   ]
  },
  {
   "cell_type": "code",
   "execution_count": null,
   "outputs": [],
   "source": [],
   "metadata": {
    "collapsed": false
   },
   "id": "a285f1b435b7c836"
  }
 ],
 "metadata": {
  "kernelspec": {
   "display_name": "Python 3",
   "language": "python",
   "name": "python3"
  },
  "language_info": {
   "codemirror_mode": {
    "name": "ipython",
    "version": 2
   },
   "file_extension": ".py",
   "mimetype": "text/x-python",
   "name": "python",
   "nbconvert_exporter": "python",
   "pygments_lexer": "ipython2",
   "version": "2.7.6"
  }
 },
 "nbformat": 4,
 "nbformat_minor": 5
}
