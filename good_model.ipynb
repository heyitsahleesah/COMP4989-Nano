{
 "cells": [
  {
   "cell_type": "code",
   "execution_count": null,
   "id": "initial_id",
   "metadata": {
    "collapsed": true
   },
   "outputs": [],
   "source": [
    "# HERE\n",
    "test_img = tf.keras.preprocessing.image.load_img(\n",
    "    'C:\\\\Users\\Felix\\Downloads\\Shih-tzu-dog.jpg', target_size=(128, 128) #path to test image, target size must be 128x128 \n",
    ")\n",
    "test_img = tf.keras.preprocessing.image.img_to_array(test_img)\n",
    "# test_img = np.expand_dims(test_img, axis=0)\n",
    "test_img = test_img/255\n",
    "plt.imshow(test_img)\n",
    "test_img = np.asarray([test_img])"
   ]
  },
  {
   "cell_type": "code",
   "execution_count": null,
   "outputs": [],
   "source": [
    "# predict on test_img\n",
    "import pickle\n",
    "# load best model with best weights\n",
    "prediction_model = tf.keras.models.load_model('./SavedModels/GOOD_ResNet50V2_DataAug.hdf5', compile=False) #path to model XXX_ResNet50V2DataAug.hdf5\n",
    "prediction_model.compile()\n",
    "checkpoint_path = './Checkpoints/GOOD_ResNet50V2DataAug' #path to checkpoint XXX_ResNet50V2DataAug\n",
    "prediction_model.load_weights(checkpoint_path)\n",
    "\n",
    "# make predictions\n",
    "test_predictions = prediction_model.predict(test_img)\n",
    "with open('label2index.pickle', 'rb') as f:\n",
    "    class_arr = pickle.load(f)\n",
    "class_arr = {v: k for k, v in class_arr.items()}\n",
    "print(class_arr)\n",
    "print(class_arr[test_predictions.argmax(axis=1)[0]])\n",
    "\n"
   ],
   "metadata": {
    "collapsed": false
   },
   "id": "fd556f7d21c749ed"
  }
 ],
 "metadata": {
  "kernelspec": {
   "display_name": "Python 3",
   "language": "python",
   "name": "python3"
  },
  "language_info": {
   "codemirror_mode": {
    "name": "ipython",
    "version": 2
   },
   "file_extension": ".py",
   "mimetype": "text/x-python",
   "name": "python",
   "nbconvert_exporter": "python",
   "pygments_lexer": "ipython2",
   "version": "2.7.6"
  }
 },
 "nbformat": 4,
 "nbformat_minor": 5
}
